{
 "cells": [
  {
   "cell_type": "code",
   "execution_count": null,
   "metadata": {},
   "outputs": [],
   "source": [
    "sucesion = input(\"______GENERADOR DE FIBONACI______\\n \\n ESTUDIANTE: Eduardo Villacorta Ramos \\n \\n  \\n -----------SELECCIONE (s) o (n)--------------------\\n\\n (s) límite máximo de numero, \\n (n) generar hasta el nunero elijido\\n ingrese letra....\")\n",
    "print(\" NUMERO FIBONACI \")\n",
    "if sucesion == 's':\n",
    "    def fib(n):\n",
    "        a, b = 0,1\n",
    "        while a < n:\n",
    "            print(a, end=' ')\n",
    "            a, b = b, a + b\n",
    "    m = int(input(\"Límite máximo~> \"))   \n",
    "    fib(m)\n",
    "    print(\" \\n \\n GENERACIÓN EXITOSA \\n \\n GRACIAS \\n \\n \")\n",
    "\n",
    "elif sucesion == 'n':\n",
    "    a, b = 0,1\n",
    "    n = int(input(\"Número de términos~> \"))\n",
    "    for i in range(n):\n",
    "        print(i, a)\n",
    "        a, b = b, a + b\n",
    "        print(\" \\n \\n GENERACIÓN EXITOSA \\n \\n GRACIAS \\n \\n \")\n",
    "\n",
    "else:\n",
    "    print(\"Debe ingresar s o n   \\n no se acepta otros caracteres\" )"
   ]
  },
  {
   "cell_type": "code",
   "execution_count": null,
   "metadata": {},
   "outputs": [],
   "source": []
  }
 ],
 "metadata": {
  "kernelspec": {
   "display_name": "Python 3",
   "language": "python",
   "name": "python3"
  },
  "language_info": {
   "codemirror_mode": {
    "name": "ipython",
    "version": 3
   },
   "file_extension": ".py",
   "mimetype": "text/x-python",
   "name": "python",
   "nbconvert_exporter": "python",
   "pygments_lexer": "ipython3",
   "version": "3.8.5"
  }
 },
 "nbformat": 4,
 "nbformat_minor": 4
}
